{
 "cells": [
  {
   "cell_type": "code",
   "execution_count": 2,
   "id": "c205da14-6a30-4e9b-837e-21d481f62656",
   "metadata": {},
   "outputs": [
    {
     "name": "stdout",
     "output_type": "stream",
     "text": [
      "The animal makes a sound.\n",
      "Bark!\n"
     ]
    }
   ],
   "source": [
    "# Creating a simple class hierarchy to demonstrate method overriding in Python\n",
    "\n",
    "# Parent class\n",
    "class Animal:\n",
    "    def speak(self):\n",
    "        print(\"The animal makes a sound.\")\n",
    "\n",
    "# Child class\n",
    "class Dog(Animal):\n",
    "    def speak(self):\n",
    "        print(\"Bark!\")\n",
    "\n",
    "# Let's create instances and test the speak method\n",
    "generic_animal = Animal()\n",
    "dog = Dog()\n",
    "\n",
    "# Calling the methods\n",
    "generic_animal.speak()  # Should print a generic message\n",
    "dog.speak()             # Should print \"Bark!\"\n"
   ]
  },
  {
   "cell_type": "code",
   "execution_count": 4,
   "id": "fcff7ded-b706-4b05-ad13-71fdb8c306ff",
   "metadata": {},
   "outputs": [
    {
     "name": "stdout",
     "output_type": "stream",
     "text": [
      "Area of Circle: 78.53981633974483\n",
      "Area of Rectangle: 24\n"
     ]
    }
   ],
   "source": [
    "# Using the abc module to create an abstract class in Python\n",
    "\n",
    "from abc import ABC, abstractmethod\n",
    "import math\n",
    "\n",
    "# Abstract class\n",
    "class Shape(ABC):\n",
    "    @abstractmethod\n",
    "    def area(self):\n",
    "        pass  # This method will be implemented in child classes\n",
    "\n",
    "# Circle class inheriting from Shape\n",
    "class Circle(Shape):\n",
    "    def __init__(self, radius):\n",
    "        self.radius = radius\n",
    "\n",
    "    def area(self):\n",
    "        return math.pi * self.radius ** 2\n",
    "\n",
    "# Rectangle class inheriting from Shape\n",
    "class Rectangle(Shape):\n",
    "    def __init__(self, width, height):\n",
    "        self.width = width\n",
    "        self.height = height\n",
    "\n",
    "    def area(self):\n",
    "        return self.width * self.height\n",
    "\n",
    "# Testing both classes\n",
    "circle = Circle(5)\n",
    "rectangle = Rectangle(4, 6)\n",
    "\n",
    "print(\"Area of Circle:\", circle.area())\n",
    "print(\"Area of Rectangle:\", rectangle.area())\n"
   ]
  },
  {
   "cell_type": "code",
   "execution_count": 6,
   "id": "f5f07d08-3bf9-4fa9-868e-37e200c47eeb",
   "metadata": {},
   "outputs": [
    {
     "name": "stdout",
     "output_type": "stream",
     "text": [
      "Vehicle Type: Electric\n",
      "Brand: Tesla\n",
      "Battery Capacity: 75 kWh\n"
     ]
    }
   ],
   "source": [
    "# Multi-level inheritance example\n",
    "\n",
    "# Base class\n",
    "class Vehicle:\n",
    "    def __init__(self, vehicle_type):\n",
    "        self.type = vehicle_type\n",
    "\n",
    "# Derived class from Vehicle\n",
    "class Car(Vehicle):\n",
    "    def __init__(self, vehicle_type, brand):\n",
    "        super().__init__(vehicle_type)\n",
    "        self.brand = brand\n",
    "\n",
    "# Further derived class from Car\n",
    "class ElectricCar(Car):\n",
    "    def __init__(self, vehicle_type, brand, battery_capacity):\n",
    "        super().__init__(vehicle_type, brand)\n",
    "        self.battery = battery_capacity  # in kWh\n",
    "\n",
    "# Creating an object of ElectricCar\n",
    "my_tesla = ElectricCar(\"Electric\", \"Tesla\", 75)\n",
    "\n",
    "# Displaying the attributes\n",
    "print(\"Vehicle Type:\", my_tesla.type)\n",
    "print(\"Brand:\", my_tesla.brand)\n",
    "print(\"Battery Capacity:\", my_tesla.battery, \"kWh\")\n"
   ]
  },
  {
   "cell_type": "code",
   "execution_count": 8,
   "id": "c4a6bcd5-8483-40b0-abd4-0f30be59dcab",
   "metadata": {},
   "outputs": [
    {
     "name": "stdout",
     "output_type": "stream",
     "text": [
      "Sparrow flies high in the sky.\n",
      "Penguins can't fly, but they swim really well!\n"
     ]
    }
   ],
   "source": [
    "# Polymorphism through method overriding in Python\n",
    "\n",
    "# Base class\n",
    "class Bird:\n",
    "    def fly(self):\n",
    "        print(\"This bird can fly.\")\n",
    "\n",
    "# Derived class 1\n",
    "class Sparrow(Bird):\n",
    "    def fly(self):\n",
    "        print(\"Sparrow flies high in the sky.\")\n",
    "\n",
    "# Derived class 2\n",
    "class Penguin(Bird):\n",
    "    def fly(self):\n",
    "        print(\"Penguins can't fly, but they swim really well!\")\n",
    "\n",
    "# Function that uses polymorphism\n",
    "def bird_flight(bird):\n",
    "    bird.fly()\n",
    "\n",
    "# Creating objects\n",
    "sparrow = Sparrow()\n",
    "penguin = Penguin()\n",
    "\n",
    "# Calling the fly method using the same function\n",
    "bird_flight(sparrow)\n",
    "bird_flight(penguin)\n"
   ]
  },
  {
   "cell_type": "code",
   "execution_count": 10,
   "id": "3983a035-71b7-4117-abb8-d7ef650acb20",
   "metadata": {},
   "outputs": [
    {
     "name": "stdout",
     "output_type": "stream",
     "text": [
      "Current balance: ₹1000\n",
      "Deposited ₹500\n",
      "Withdrew ₹300\n",
      "Current balance: ₹1200\n"
     ]
    }
   ],
   "source": [
    "# Encapsulation example using private attributes and public methods\n",
    "\n",
    "class BankAccount:\n",
    "    def __init__(self, initial_balance=0):\n",
    "        self.__balance = initial_balance  # private attribute\n",
    "\n",
    "    def deposit(self, amount):\n",
    "        if amount > 0:\n",
    "            self.__balance += amount\n",
    "            print(f\"Deposited ₹{amount}\")\n",
    "        else:\n",
    "            print(\"Deposit amount must be positive.\")\n",
    "\n",
    "    def withdraw(self, amount):\n",
    "        if amount <= self.__balance:\n",
    "            self.__balance -= amount\n",
    "            print(f\"Withdrew ₹{amount}\")\n",
    "        else:\n",
    "            print(\"Insufficient balance.\")\n",
    "\n",
    "    def check_balance(self):\n",
    "        print(f\"Current balance: ₹{self.__balance}\")\n",
    "\n",
    "# Creating a BankAccount object\n",
    "my_account = BankAccount(1000)\n",
    "\n",
    "# Using the methods\n",
    "my_account.check_balance()\n",
    "my_account.deposit(500)\n",
    "my_account.withdraw(300)\n",
    "my_account.check_balance()\n"
   ]
  },
  {
   "cell_type": "code",
   "execution_count": 12,
   "id": "55456a0b-1f0f-452d-8dee-28d411354613",
   "metadata": {},
   "outputs": [
    {
     "name": "stdout",
     "output_type": "stream",
     "text": [
      "Strumming the guitar 🎸\n",
      "Playing the piano 🎹\n"
     ]
    }
   ],
   "source": [
    "# Runtime polymorphism example using method overriding\n",
    "\n",
    "# Base class\n",
    "class Instrument:\n",
    "    def play(self):\n",
    "        print(\"The instrument is playing a sound.\")\n",
    "\n",
    "# Derived class 1\n",
    "class Guitar(Instrument):\n",
    "    def play(self):\n",
    "        print(\"Strumming the guitar 🎸\")\n",
    "\n",
    "# Derived class 2\n",
    "class Piano(Instrument):\n",
    "    def play(self):\n",
    "        print(\"Playing the piano 🎹\")\n",
    "\n",
    "# Function that accepts any Instrument\n",
    "def start_playing(instrument):\n",
    "    instrument.play()\n",
    "\n",
    "# Creating objects\n",
    "guitar = Guitar()\n",
    "piano = Piano()\n",
    "\n",
    "# Demonstrating runtime polymorphism\n",
    "start_playing(guitar)  # Calls Guitar's play()\n",
    "start_playing(piano)   # Calls Piano's play()\n"
   ]
  },
  {
   "cell_type": "code",
   "execution_count": 14,
   "id": "c9b42b11-6039-496a-bb41-05acaf71eb72",
   "metadata": {},
   "outputs": [
    {
     "name": "stdout",
     "output_type": "stream",
     "text": [
      "Sum: 15\n",
      "Difference: 5\n"
     ]
    }
   ],
   "source": [
    "# Class method vs Static method example\n",
    "\n",
    "class MathOperations:\n",
    "    \n",
    "    @classmethod\n",
    "    def add_numbers(cls, a, b):\n",
    "        return a + b\n",
    "    \n",
    "    @staticmethod\n",
    "    def subtract_numbers(a, b):\n",
    "        return a - b\n",
    "\n",
    "# Testing the methods\n",
    "sum_result = MathOperations.add_numbers(10, 5)\n",
    "sub_result = MathOperations.subtract_numbers(10, 5)\n",
    "\n",
    "print(\"Sum:\", sum_result)\n",
    "print(\"Difference:\", sub_result)\n"
   ]
  },
  {
   "cell_type": "code",
   "execution_count": 16,
   "id": "9771fb83-d49a-44d5-984e-f518d1ff0c48",
   "metadata": {},
   "outputs": [
    {
     "name": "stdout",
     "output_type": "stream",
     "text": [
      "Total number of persons created: 3\n"
     ]
    }
   ],
   "source": [
    "# Person class with a class method to count instances\n",
    "\n",
    "class Person:\n",
    "    # Class variable to track the number of Person instances\n",
    "    total_persons = 0\n",
    "    \n",
    "    def __init__(self, name, age):\n",
    "        self.name = name\n",
    "        self.age = age\n",
    "        Person.total_persons += 1  # Increment the counter each time a new object is created\n",
    "\n",
    "    @classmethod\n",
    "    def get_total_persons(cls):\n",
    "        return cls.total_persons\n",
    "\n",
    "# Creating instances of Person\n",
    "person1 = Person(\"Alice\", 30)\n",
    "person2 = Person(\"Bob\", 25)\n",
    "person3 = Person(\"Charlie\", 22)\n",
    "\n",
    "# Accessing the class method to get the total count\n",
    "print(\"Total number of persons created:\", Person.get_total_persons())\n"
   ]
  },
  {
   "cell_type": "code",
   "execution_count": 18,
   "id": "73ae131e-cc11-41dd-8c16-a5c45c06ba52",
   "metadata": {},
   "outputs": [
    {
     "name": "stdout",
     "output_type": "stream",
     "text": [
      "3/4\n",
      "5/8\n"
     ]
    }
   ],
   "source": [
    "# Fraction class with overridden __str__ method\n",
    "\n",
    "class Fraction:\n",
    "    def __init__(self, numerator, denominator):\n",
    "        self.numerator = numerator\n",
    "        self.denominator = denominator\n",
    "\n",
    "    # Overriding the __str__ method to represent the fraction\n",
    "    def __str__(self):\n",
    "        return f\"{self.numerator}/{self.denominator}\"\n",
    "\n",
    "# Creating a fraction object\n",
    "fraction1 = Fraction(3, 4)\n",
    "fraction2 = Fraction(5, 8)\n",
    "\n",
    "# Printing the fractions using the overridden __str__ method\n",
    "print(fraction1)  # Output: 3/4\n",
    "print(fraction2)  # Output: 5/8\n"
   ]
  },
  {
   "cell_type": "code",
   "execution_count": 20,
   "id": "0258421f-1f3d-4ca9-b22f-f493e6288bee",
   "metadata": {},
   "outputs": [
    {
     "name": "stdout",
     "output_type": "stream",
     "text": [
      "Resultant Vector: (6, 8)\n"
     ]
    }
   ],
   "source": [
    "# Operator overloading example with Vector class\n",
    "\n",
    "class Vector:\n",
    "    def __init__(self, x, y):\n",
    "        self.x = x\n",
    "        self.y = y\n",
    "\n",
    "    # Overloading the + operator using __add__ method\n",
    "    def __add__(self, other):\n",
    "        # Adding corresponding components of the vectors\n",
    "        return Vector(self.x + other.x, self.y + other.y)\n",
    "\n",
    "    # Overriding __str__ to print the vector in a readable form\n",
    "    def __str__(self):\n",
    "        return f\"({self.x}, {self.y})\"\n",
    "\n",
    "# Creating two vector objects\n",
    "vector1 = Vector(2, 3)\n",
    "vector2 = Vector(4, 5)\n",
    "\n",
    "# Adding the two vectors using the overloaded + operator\n",
    "result_vector = vector1 + vector2\n",
    "\n",
    "# Printing the result\n",
    "print(\"Resultant Vector:\", result_vector)\n"
   ]
  },
  {
   "cell_type": "code",
   "execution_count": 22,
   "id": "1f66db47-74d2-40f6-9faf-37300587fd0c",
   "metadata": {},
   "outputs": [
    {
     "name": "stdout",
     "output_type": "stream",
     "text": [
      "Hello, my name is Akash and I am 22 years old.\n"
     ]
    }
   ],
   "source": [
    "# Person class with name, age, and greet method\n",
    "\n",
    "class Person:\n",
    "    def __init__(self, name, age):\n",
    "        self.name = name\n",
    "        self.age = age\n",
    "\n",
    "    # Method to greet the person\n",
    "    def greet(self):\n",
    "        print(f\"Hello, my name is {self.name} and I am {self.age} years old.\")\n",
    "\n",
    "# Creating a Person object\n",
    "person1 = Person(\"Akash\", 22)\n",
    "\n",
    "# Calling the greet method\n",
    "person1.greet()\n"
   ]
  },
  {
   "cell_type": "code",
   "execution_count": 24,
   "id": "42c817ed-afb7-4d4b-af7b-aa69494e96cc",
   "metadata": {},
   "outputs": [
    {
     "name": "stdout",
     "output_type": "stream",
     "text": [
      "Brad's average grade is: 86.6\n"
     ]
    }
   ],
   "source": [
    "# Student class with name, grades, and method to calculate average grade\n",
    "\n",
    "class Student:\n",
    "    def __init__(self, name, grades):\n",
    "        self.name = name\n",
    "        self.grades = grades  # grades should be a list of numerical values\n",
    "\n",
    "    # Method to calculate the average grade\n",
    "    def average_grade(self):\n",
    "        return sum(self.grades) / len(self.grades) if self.grades else 0\n",
    "\n",
    "# Creating a Student object\n",
    "student1 = Student(\"Brad\", [85, 90, 78, 92, 88])\n",
    "\n",
    "# Calling the average_grade method\n",
    "print(f\"{student1.name}'s average grade is: {student1.average_grade()}\")\n"
   ]
  },
  {
   "cell_type": "code",
   "execution_count": 26,
   "id": "ff0ecc38-fbd8-4b0e-a70f-76dd4dc30f4c",
   "metadata": {},
   "outputs": [
    {
     "name": "stdout",
     "output_type": "stream",
     "text": [
      "The area of the rectangle is: 40 square units.\n"
     ]
    }
   ],
   "source": [
    "# Rectangle class with methods to set dimensions and calculate area\n",
    "\n",
    "class Rectangle:\n",
    "    def __init__(self):\n",
    "        self.length = 0\n",
    "        self.width = 0\n",
    "\n",
    "    # Method to set dimensions of the rectangle\n",
    "    def set_dimensions(self, length, width):\n",
    "        self.length = length\n",
    "        self.width = width\n",
    "\n",
    "    # Method to calculate the area of the rectangle\n",
    "    def area(self):\n",
    "        return self.length * self.width\n",
    "\n",
    "# Creating a Rectangle object\n",
    "rectangle1 = Rectangle()\n",
    "\n",
    "# Setting dimensions of the rectangle\n",
    "rectangle1.set_dimensions(5, 8)\n",
    "\n",
    "# Calculating and printing the area\n",
    "print(f\"The area of the rectangle is: {rectangle1.area()} square units.\")\n"
   ]
  },
  {
   "cell_type": "code",
   "execution_count": 28,
   "id": "48f20cb5-9abf-4248-8a58-96e39b34a902",
   "metadata": {},
   "outputs": [
    {
     "name": "stdout",
     "output_type": "stream",
     "text": [
      "Alice's salary is: $800\n",
      "Bob's salary is: $1500\n"
     ]
    }
   ],
   "source": [
    "# Base class Employee\n",
    "class Employee:\n",
    "    def __init__(self, name, hours_worked, hourly_rate):\n",
    "        self.name = name\n",
    "        self.hours_worked = hours_worked\n",
    "        self.hourly_rate = hourly_rate\n",
    "\n",
    "    # Method to calculate the salary based on hours worked and hourly rate\n",
    "    def calculate_salary(self):\n",
    "        return self.hours_worked * self.hourly_rate\n",
    "\n",
    "# Derived class Manager\n",
    "class Manager(Employee):\n",
    "    def __init__(self, name, hours_worked, hourly_rate, bonus):\n",
    "        super().__init__(name, hours_worked, hourly_rate)\n",
    "        self.bonus = bonus\n",
    "\n",
    "    # Overriding the calculate_salary method to include bonus\n",
    "    def calculate_salary(self):\n",
    "        base_salary = super().calculate_salary()\n",
    "        return base_salary + self.bonus\n",
    "\n",
    "# Creating an Employee object\n",
    "employee1 = Employee(\"Alice\", 40, 20)\n",
    "\n",
    "# Creating a Manager object with a bonus\n",
    "manager1 = Manager(\"Bob\", 40, 25, 500)\n",
    "\n",
    "# Calculating and printing the salary for both employee and manager\n",
    "print(f\"{employee1.name}'s salary is: ${employee1.calculate_salary()}\")\n",
    "print(f\"{manager1.name}'s salary is: ${manager1.calculate_salary()}\")\n"
   ]
  },
  {
   "cell_type": "code",
   "execution_count": 30,
   "id": "d1ffdee9-387c-4192-a724-4d5f35c94e66",
   "metadata": {},
   "outputs": [
    {
     "name": "stdout",
     "output_type": "stream",
     "text": [
      "The total price for Laptop is: $3000\n"
     ]
    }
   ],
   "source": [
    "# Product class with name, price, quantity and total_price method\n",
    "\n",
    "class Product:\n",
    "    def __init__(self, name, price, quantity):\n",
    "        self.name = name\n",
    "        self.price = price\n",
    "        self.quantity = quantity\n",
    "\n",
    "    # Method to calculate the total price of the product\n",
    "    def total_price(self):\n",
    "        return self.price * self.quantity\n",
    "\n",
    "# Creating a Product object\n",
    "product1 = Product(\"Laptop\", 1000, 3)\n",
    "\n",
    "# Calculating and printing the total price\n",
    "print(f\"The total price for {product1.name} is: ${product1.total_price()}\")\n",
    "\n"
   ]
  },
  {
   "cell_type": "code",
   "execution_count": 32,
   "id": "d9c2701c-3f26-44c6-aee3-c0d02561583d",
   "metadata": {},
   "outputs": [
    {
     "name": "stdout",
     "output_type": "stream",
     "text": [
      "Cow sound: Moo\n",
      "Sheep sound: Baa\n"
     ]
    }
   ],
   "source": [
    "from abc import ABC, abstractmethod\n",
    "\n",
    "# Abstract class Animal\n",
    "class Animal(ABC):\n",
    "    @abstractmethod\n",
    "    def sound(self):\n",
    "        pass  # Abstract method, to be implemented by subclasses\n",
    "\n",
    "# Derived class Cow\n",
    "class Cow(Animal):\n",
    "    def sound(self):\n",
    "        return \"Moo\"\n",
    "\n",
    "# Derived class Sheep\n",
    "class Sheep(Animal):\n",
    "    def sound(self):\n",
    "        return \"Baa\"\n",
    "\n",
    "# Creating instances of Cow and Sheep\n",
    "cow = Cow()\n",
    "sheep = Sheep()\n",
    "\n",
    "# Calling the sound method on both objects\n",
    "print(\"Cow sound:\", cow.sound())\n",
    "print(\"Sheep sound:\", sheep.sound())\n"
   ]
  },
  {
   "cell_type": "code",
   "execution_count": 34,
   "id": "3488dd5e-2721-4863-9823-673357fdec57",
   "metadata": {},
   "outputs": [
    {
     "name": "stdout",
     "output_type": "stream",
     "text": [
      "Title: 1984\n",
      "Author: George Orwell\n",
      "Year Published: 1949\n"
     ]
    }
   ],
   "source": [
    "# Book class with title, author, year_published and get_book_info method\n",
    "\n",
    "class Book:\n",
    "    def __init__(self, title, author, year_published):\n",
    "        self.title = title\n",
    "        self.author = author\n",
    "        self.year_published = year_published\n",
    "\n",
    "    # Method to return a formatted string with book details\n",
    "    def get_book_info(self):\n",
    "        return f\"Title: {self.title}\\nAuthor: {self.author}\\nYear Published: {self.year_published}\"\n",
    "\n",
    "# Creating a Book object\n",
    "book1 = Book(\"1984\", \"George Orwell\", 1949)\n",
    "\n",
    "# Getting and printing the book information\n",
    "print(book1.get_book_info())\n"
   ]
  },
  {
   "cell_type": "code",
   "execution_count": 36,
   "id": "80f82c5f-498f-4ff6-a7b5-85ce14a5bbbb",
   "metadata": {},
   "outputs": [
    {
     "name": "stdout",
     "output_type": "stream",
     "text": [
      "Address: 123 Luxury St, Beverly Hills\n",
      "Price: $5000000\n",
      "Number of Rooms: 10\n"
     ]
    }
   ],
   "source": [
    "# Base class House\n",
    "class House:\n",
    "    def __init__(self, address, price):\n",
    "        self.address = address\n",
    "        self.price = price\n",
    "\n",
    "    # Method to display basic house details\n",
    "    def get_details(self):\n",
    "        return f\"Address: {self.address}\\nPrice: ${self.price}\"\n",
    "\n",
    "# Derived class Mansion\n",
    "class Mansion(House):\n",
    "    def __init__(self, address, price, number_of_rooms):\n",
    "        super().__init__(address, price)  # Call the parent class constructor\n",
    "        self.number_of_rooms = number_of_rooms\n",
    "\n",
    "    # Overriding the get_details method to include number_of_rooms\n",
    "    def get_details(self):\n",
    "        base_details = super().get_details()  # Get basic house details from the parent class\n",
    "        return f\"{base_details}\\nNumber of Rooms: {self.number_of_rooms}\"\n",
    "\n",
    "# Creating a Mansion object\n",
    "mansion = Mansion(\"123 Luxury St, Beverly Hills\", 5000000, 10)\n",
    "\n",
    "# Printing the mansion details\n",
    "print(mansion.get_details())\n"
   ]
  }
 ],
 "metadata": {
  "kernelspec": {
   "display_name": "Python [conda env:base] *",
   "language": "python",
   "name": "conda-base-py"
  },
  "language_info": {
   "codemirror_mode": {
    "name": "ipython",
    "version": 3
   },
   "file_extension": ".py",
   "mimetype": "text/x-python",
   "name": "python",
   "nbconvert_exporter": "python",
   "pygments_lexer": "ipython3",
   "version": "3.12.7"
  }
 },
 "nbformat": 4,
 "nbformat_minor": 5
}
